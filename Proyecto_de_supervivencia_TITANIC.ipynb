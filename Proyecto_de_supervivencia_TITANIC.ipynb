{
  "nbformat": 4,
  "nbformat_minor": 0,
  "metadata": {
    "colab": {
      "name": "Proyecto_de_supervivencia_TITANIC.ipynb",
      "provenance": [],
      "collapsed_sections": [],
      "authorship_tag": "ABX9TyPbhsscLUu7AO7hwRYFnsaQ",
      "include_colab_link": true
    },
    "kernelspec": {
      "name": "python3",
      "display_name": "Python 3"
    },
    "language_info": {
      "name": "python"
    }
  },
  "cells": [
    {
      "cell_type": "markdown",
      "metadata": {
        "id": "view-in-github",
        "colab_type": "text"
      },
      "source": [
        "<a href=\"https://colab.research.google.com/github/Leito2022/Proyecto_Titanic/blob/main/Proyecto_de_supervivencia_TITANIC.ipynb\" target=\"_parent\"><img src=\"https://colab.research.google.com/assets/colab-badge.svg\" alt=\"Open In Colab\"/></a>"
      ]
    },
    {
      "cell_type": "code",
      "execution_count": null,
      "metadata": {
        "id": "cLhGjxnZWSIK"
      },
      "outputs": [],
      "source": [
        "import numpy as np\n",
        "from sklearn import datasets, linear_model\n",
        "from sklearn.model_selection import train_test_split\n",
        "import matplotlib.pyplot as plt"
      ]
    },
    {
      "cell_type": "code",
      "source": [
        "#Importamos el data set que viene incluido en sklearn\n",
        "\n",
        "boston = datasets.load_boston()\n",
        "print(boston)"
      ],
      "metadata": {
        "id": "Cf38VaXTZyFx"
      },
      "execution_count": null,
      "outputs": []
    },
    {
      "cell_type": "code",
      "source": [
        "#Datos del DF\n",
        "\n",
        "#Tipos de datos\n",
        "print(boston.keys())\n",
        "print(\"Nombre de columna\", boston.feature_names) # Columnas\n",
        "print(\"Descripción\", boston.DESCR)"
      ],
      "metadata": {
        "colab": {
          "base_uri": "https://localhost:8080/"
        },
        "id": "KMrdriIia96o",
        "outputId": "a705f45a-4d42-47dd-96b3-9b7eb084f3bd"
      },
      "execution_count": null,
      "outputs": [
        {
          "output_type": "stream",
          "name": "stdout",
          "text": [
            "dict_keys(['data', 'target', 'feature_names', 'DESCR', 'filename', 'data_module'])\n",
            "Nombre de columna ['CRIM' 'ZN' 'INDUS' 'CHAS' 'NOX' 'RM' 'AGE' 'DIS' 'RAD' 'TAX' 'PTRATIO'\n",
            " 'B' 'LSTAT']\n",
            "Descripción .. _boston_dataset:\n",
            "\n",
            "Boston house prices dataset\n",
            "---------------------------\n",
            "\n",
            "**Data Set Characteristics:**  \n",
            "\n",
            "    :Number of Instances: 506 \n",
            "\n",
            "    :Number of Attributes: 13 numeric/categorical predictive. Median Value (attribute 14) is usually the target.\n",
            "\n",
            "    :Attribute Information (in order):\n",
            "        - CRIM     per capita crime rate by town\n",
            "        - ZN       proportion of residential land zoned for lots over 25,000 sq.ft.\n",
            "        - INDUS    proportion of non-retail business acres per town\n",
            "        - CHAS     Charles River dummy variable (= 1 if tract bounds river; 0 otherwise)\n",
            "        - NOX      nitric oxides concentration (parts per 10 million)\n",
            "        - RM       average number of rooms per dwelling\n",
            "        - AGE      proportion of owner-occupied units built prior to 1940\n",
            "        - DIS      weighted distances to five Boston employment centres\n",
            "        - RAD      index of accessibility to radial highways\n",
            "        - TAX      full-value property-tax rate per $10,000\n",
            "        - PTRATIO  pupil-teacher ratio by town\n",
            "        - B        1000(Bk - 0.63)^2 where Bk is the proportion of black people by town\n",
            "        - LSTAT    % lower status of the population\n",
            "        - MEDV     Median value of owner-occupied homes in $1000's\n",
            "\n",
            "    :Missing Attribute Values: None\n",
            "\n",
            "    :Creator: Harrison, D. and Rubinfeld, D.L.\n",
            "\n",
            "This is a copy of UCI ML housing dataset.\n",
            "https://archive.ics.uci.edu/ml/machine-learning-databases/housing/\n",
            "\n",
            "\n",
            "This dataset was taken from the StatLib library which is maintained at Carnegie Mellon University.\n",
            "\n",
            "The Boston house-price data of Harrison, D. and Rubinfeld, D.L. 'Hedonic\n",
            "prices and the demand for clean air', J. Environ. Economics & Management,\n",
            "vol.5, 81-102, 1978.   Used in Belsley, Kuh & Welsch, 'Regression diagnostics\n",
            "...', Wiley, 1980.   N.B. Various transformations are used in the table on\n",
            "pages 244-261 of the latter.\n",
            "\n",
            "The Boston house-price data has been used in many machine learning papers that address regression\n",
            "problems.   \n",
            "     \n",
            ".. topic:: References\n",
            "\n",
            "   - Belsley, Kuh & Welsch, 'Regression diagnostics: Identifying Influential Data and Sources of Collinearity', Wiley, 1980. 244-261.\n",
            "   - Quinlan,R. (1993). Combining Instance-Based and Model-Based Learning. In Proceedings on the Tenth International Conference of Machine Learning, 236-243, University of Massachusetts, Amherst. Morgan Kaufmann.\n",
            "\n"
          ]
        }
      ]
    },
    {
      "cell_type": "code",
      "source": [
        "#A primera vista RM (número de habitaciones en la vivienda) se muestra como una variable importante en la estimación del precio de una casa, no usamos ningún algoritmo para deducirlo, simplemente la lógica.\n",
        "#Graficaré esta variable para ver la dispersión de datos y su relación con el precio.\n",
        "\n",
        "#print(boston.target)\n",
        "x = boston.data[:, np.newaxis, 5]\n",
        "y = boston.target\n",
        "\n",
        "plt.scatter(x,y)\n",
        "plt.xlabel(\"Cant. Hab.\")\n",
        "plt.ylabel(\"Precio promedio\")\n",
        "plt.show()"
      ],
      "metadata": {
        "colab": {
          "base_uri": "https://localhost:8080/",
          "height": 279
        },
        "id": "O-B57l43hJrw",
        "outputId": "74a7283d-c439-4590-f763-adb36aff702c"
      },
      "execution_count": null,
      "outputs": [
        {
          "output_type": "display_data",
          "data": {
            "text/plain": [
              "<Figure size 432x288 with 1 Axes>"
            ],
            "image/png": "[encoded data removed]"
          },
          "metadata": {
            "needs_background": "light"
          }
        }
      ]
    },
    {
      "cell_type": "code",
      "source": [
        "#Si bien con el gráfico sabemos que no tenemos una disposición lo suficientemente buena como para un modelo de regresión,\n",
        "#seguire con la práctica a solo efecto de aplicar el modelo de regresión simple aún sabiendo que fracasará\n",
        "\n",
        "#Partición de datos para entrenar y testear\n",
        "\n",
        "X_test, X_train, Y_test, Y_train = train_test_split(x,y, test_size = 0.2)\n",
        "\n",
        "lr = linear_model.LinearRegression()\n",
        "\n",
        "lr.fit(X_train, Y_train)\n",
        "\n",
        "y_predict = lr.predict(X_test)"
      ],
      "metadata": {
        "id": "cxwAmuvqsm4H"
      },
      "execution_count": null,
      "outputs": []
    },
    {
      "cell_type": "code",
      "source": [
        "#Grafico del modelo\n",
        "\n",
        "plt.scatter(X_test,Y_test)\n",
        "plt.plot(X_test, y_predict, color = \"red\", linewidth = 3)\n",
        "plt.title(\"Regresión Lineal Simple\")\n",
        "plt.xlabel(\"N° de hab\")\n",
        "plt.ylabel(\"Precio Promedio\")\n",
        "\n",
        "plt.show()"
      ],
      "metadata": {
        "colab": {
          "base_uri": "https://localhost:8080/",
          "height": 295
        },
        "id": "0e3eBErS7Wbn",
        "outputId": "f9d409ed-8087-400a-cbff-d051836f06a8"
      },
      "execution_count": null,
      "outputs": [
        {
          "output_type": "display_data",
          "data": {
            "text/plain": [
              "<Figure size 432x288 with 1 Axes>"
            ],
            "image/png": "[encoded data removed]"
          },
          "metadata": {
            "needs_background": "light"
          }
        }
      ]
    },
    {
      "cell_type": "code",
      "source": [
        "#sacamos el coef y el intercept de nuestro modelo\n",
        "\n",
        "print(\"Coeficiente \",lr.coef_)\n",
        "print(\"Interceptor \",lr.intercept_)\n",
        "print(\"Precisión \",lr.score(X_train,Y_train))\n",
        "print(\"\")"
      ],
      "metadata": {
        "colab": {
          "base_uri": "https://localhost:8080/"
        },
        "id": "9vp66-NHHhrA",
        "outputId": "ae670e27-9611-429e-c287-c2128333521b"
      },
      "execution_count": null,
      "outputs": [
        {
          "output_type": "stream",
          "name": "stdout",
          "text": [
            "Coeficiente  [10.87801774]\n",
            "Interceptor  -46.217001438433584\n",
            "Precisión  0.6305726637924776\n",
            "\n"
          ]
        }
      ]
    }
  ]
}